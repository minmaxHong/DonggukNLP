{
  "nbformat": 4,
  "nbformat_minor": 0,
  "metadata": {
    "colab": {
      "provenance": [],
      "gpuType": "T4"
    },
    "kernelspec": {
      "name": "python3",
      "display_name": "Python 3"
    },
    "language_info": {
      "name": "python"
    },
    "accelerator": "GPU"
  },
  "cells": [
    {
      "cell_type": "markdown",
      "source": [
        "## 데이터 로드"
      ],
      "metadata": {
        "id": "Fj_1zCJV5VfL"
      }
    },
    {
      "cell_type": "code",
      "execution_count": 39,
      "metadata": {
        "id": "WVqXO5yBVKGa"
      },
      "outputs": [],
      "source": [
        "import matplotlib.pyplot as plt\n",
        "import tensorflow as tf\n",
        "import pandas as pd\n",
        "import numpy as np\n",
        "import re\n",
        "\n",
        "from tensorflow.keras.preprocessing.text import Tokenizer\n",
        "from tensorflow.keras.preprocessing.sequence import pad_sequences"
      ]
    },
    {
      "cell_type": "code",
      "source": [
        "# .txt파일로 불러옴\n",
        "path_to_train_file = tf.keras.utils.get_file('train.txt', 'https://raw.githubusercontent.com/e9t/nsmc/master/ratings_train.txt')\n",
        "path_to_test_file = tf.keras.utils.get_file('test.txt', 'https://raw.githubusercontent.com/e9t/nsmc/master/ratings_test.txt')"
      ],
      "metadata": {
        "id": "uz6Nw6hkVVMF"
      },
      "execution_count": 40,
      "outputs": []
    },
    {
      "cell_type": "code",
      "source": [
        "train_text = open(path_to_train_file, 'rb').read().decode(encoding='utf-8') # 'rb'로 읽으면 다르게 encoding 된 것도 읽을 수 있음(binary로 읽음)\n",
        "test_text = open(path_to_test_file, 'rb').read().decode(encoding='utf-8')\n",
        "\n",
        "print('Length of text (train): {} '.format(len(train_text)))\n",
        "print('Length of text (test): {} '.format(len(test_text)))\n",
        "\n",
        "# id : 각 data의 고유 id\n",
        "# document : review 내용\n",
        "# label : 긍정(1) / 부정(0)\n",
        "print(train_text[:300])"
      ],
      "metadata": {
        "colab": {
          "base_uri": "https://localhost:8080/"
        },
        "id": "Q-bA022VVbsc",
        "outputId": "266de5d4-9f35-4935-a12d-57d5a3816256"
      },
      "execution_count": 41,
      "outputs": [
        {
          "output_type": "stream",
          "name": "stdout",
          "text": [
            "Length of text (train): 6937271 \n",
            "Length of text (test): 2318260 \n",
            "id\tdocument\tlabel\n",
            "9976970\t아 더빙.. 진짜 짜증나네요 목소리\t0\n",
            "3819312\t흠...포스터보고 초딩영화줄....오버연기조차 가볍지 않구나\t1\n",
            "10265843\t너무재밓었다그래서보는것을추천한다\t0\n",
            "9045019\t교도소 이야기구먼 ..솔직히 재미는 없다..평점 조정\t0\n",
            "6483659\t사이몬페그의 익살스런 연기가 돋보였던 영화!스파이더맨에서 늙어보이기만 했던 커스틴 던스트가 너무나도 이뻐보였다\t1\n",
            "5403919\t막 걸음마 뗀 3세부터 초등학교 1학년생인 8살용영화.ㅋㅋㅋ...별반개도 아까움.\t0\n",
            "7797314\t원작의\n"
          ]
        }
      ]
    },
    {
      "cell_type": "markdown",
      "source": [
        "## Target data 만들기"
      ],
      "metadata": {
        "id": "sCwa6-Qm5Z0m"
      }
    },
    {
      "cell_type": "code",
      "source": [
        "# 학습 정답 데이터 만들기\n",
        "train_Y = np.array([[int(row.split('\\t')[2])] for row in train_text.split('\\n')[1:] if row.count('\\t') > 0])\n",
        "test_Y = np.array([[int(row.split('\\t')[2])] for row in test_text.split('\\n')[1:] if row.count('\\t') > 0])\n",
        "\n",
        "print(train_Y.shape, test_Y.shape)\n",
        "print(train_Y[:5])\n",
        "print()\n",
        "print(test_Y[:5])"
      ],
      "metadata": {
        "colab": {
          "base_uri": "https://localhost:8080/"
        },
        "id": "JBGpVYHkWFlb",
        "outputId": "e2c998cb-97d2-483c-e2e7-01c1982e2ff0"
      },
      "execution_count": 42,
      "outputs": [
        {
          "output_type": "stream",
          "name": "stdout",
          "text": [
            "(150000, 1) (50000, 1)\n",
            "[[0]\n",
            " [1]\n",
            " [0]\n",
            " [0]\n",
            " [1]]\n",
            "\n",
            "[[1]\n",
            " [0]\n",
            " [0]\n",
            " [0]\n",
            " [0]]\n"
          ]
        }
      ]
    },
    {
      "cell_type": "markdown",
      "source": [
        "## 훈련 데이터의 정제\n",
        "* input으로는 토큰화(Tokenization)하고 정제(Cleansing)해야합니다.\n",
        "\n",
        "Tokenization : 자연어를 처리 가능한 작은 단위로 나누는 것\n",
        "\n",
        "Cleansing :  원하지 않는 입력이나 불필요한 기호 등을 제거한다.\n"
      ],
      "metadata": {
        "id": "EBx6cPX75jdP"
      }
    },
    {
      "cell_type": "code",
      "source": [
        "# word preprocessing\n",
        "def clean_str(string):\n",
        "    string = re.sub(r\"[^가-힣A-Za-z0-9(),!?\\'\\`]\", \" \", string)\n",
        "    string = re.sub(r\"\\'s\", \" \\'s\", string)\n",
        "    string = re.sub(r\"\\'ve\", \" \\'ve\", string)\n",
        "    string = re.sub(r\"n\\'t\", \" n\\'t\", string)\n",
        "    string = re.sub(r\"\\'re\", \" \\'re\", string)\n",
        "    string = re.sub(r\"\\'d\", \" \\'d\", string)\n",
        "    string = re.sub(r\"\\'ll\", \" \\'ll\", string)\n",
        "    string = re.sub(r\",\", \" , \", string)\n",
        "    string = re.sub(r\"!\", \" ! \", string)\n",
        "    string = re.sub(r\"\\(\", \" \\( \", string)\n",
        "    string = re.sub(r\"\\)\", \" \\) \", string)\n",
        "    string = re.sub(r\"\\?\", \" \\? \", string)\n",
        "    string = re.sub(r\"\\s{2,}\", \" \", string)\n",
        "    string = re.sub(r\"\\'{2,}\", \"\\'\", string)\n",
        "    string = re.sub(r\"\\'\", \"\", string)\n",
        "\n",
        "    return string.lower()\n",
        "\n",
        "train_text_X = [row.split('\\t')[1] for row in train_text.split('\\n')[1:] if row.count('\\t') > 0]\n",
        "train_text_X = [clean_str(sentence) for sentence in train_text_X]\n",
        "# 문장을 띄어쓰기 단위로 단어 분리\n",
        "sentences = [sentence.split(' ') for sentence in train_text_X]\n",
        "for i in range(5):\n",
        "    print(sentences[i])"
      ],
      "metadata": {
        "colab": {
          "base_uri": "https://localhost:8080/"
        },
        "id": "3FB-dvadWjgi",
        "outputId": "6174472d-c0e2-4b4e-dd6b-de1686f267c6"
      },
      "execution_count": 43,
      "outputs": [
        {
          "output_type": "stream",
          "name": "stdout",
          "text": [
            "['아', '더빙', '진짜', '짜증나네요', '목소리']\n",
            "['흠', '포스터보고', '초딩영화줄', '오버연기조차', '가볍지', '않구나']\n",
            "['너무재밓었다그래서보는것을추천한다']\n",
            "['교도소', '이야기구먼', '솔직히', '재미는', '없다', '평점', '조정']\n",
            "['사이몬페그의', '익살스런', '연기가', '돋보였던', '영화', '!', '스파이더맨에서', '늙어보이기만', '했던', '커스틴', '던스트가', '너무나도', '이뻐보였다']\n"
          ]
        }
      ]
    },
    {
      "cell_type": "code",
      "source": [
        "# network에 입력하려면, data의 크기(문장의 길이)는 동일해야한다.\n",
        "# 긴 문장은 줄이고, 짧은 문장에는 공백을 의미하는 padding을 넣어야한다.\n",
        "sentence_len = [len(sentence) for sentence in sentences]\n",
        "sentence_len.sort()\n",
        "\n",
        "plt.plot(sentence_len)\n",
        "plt.show()\n",
        "\n",
        "print(sum([int(l<=25) for l in sentence_len])) # 25개 이상 -> 기준이 되는 문장의 길이, 25이상은 생략, 이 이하는 padding으로 길이를 25로 맞춘다."
      ],
      "metadata": {
        "colab": {
          "base_uri": "https://localhost:8080/",
          "height": 448
        },
        "id": "XWq3WzfRXCFb",
        "outputId": "498aa086-18ca-4485-b086-81f8c37df3cc"
      },
      "execution_count": 44,
      "outputs": [
        {
          "output_type": "display_data",
          "data": {
            "text/plain": [
              "<Figure size 640x480 with 1 Axes>"
            ],
            "image/png": "[encoded data removed]"
          },
          "metadata": {}
        },
        {
          "output_type": "stream",
          "name": "stdout",
          "text": [
            "142587\n"
          ]
        }
      ]
    },
    {
      "cell_type": "code",
      "source": [
        "# # 각 단어의 최대 길이를 조정한다.\n",
        "# # \"스파이더맨에서\" 글에서 \"에서\"의 조사를 제거하면 \"스파이더맨\" 이라는 단어가 된다.\n",
        "# sentence_new = []\n",
        "# for sentence in sentences:\n",
        "#   new_sentence = []\n",
        "#   for word in sentence:\n",
        "#     new_sentence.append(word[:5]) # 각 sentence에서 5글자만 꺼내옴\n",
        "\n",
        "#   # 25글자가 넘게 되면, 그 이상을 생략\n",
        "#   if len(new_sentence) > 25:\n",
        "#     new_sentence = new_sentence[:25]\n",
        "#   sentence_new.append(new_sentence)\n",
        "\n",
        "# sentence = sentence_new\n",
        "\n",
        "# for i in range(5):\n",
        "#     print(sentence[i])\n",
        "sentence_new = []\n",
        "for sentence in sentences:\n",
        "  sentence_new.append([word[:5] for word in sentence][:25])\n",
        "\n",
        "sentences = sentence_new\n",
        "\n",
        "for i in range(5):\n",
        "  print(sentences[i])"
      ],
      "metadata": {
        "colab": {
          "base_uri": "https://localhost:8080/"
        },
        "id": "TFdqxoYe5RKy",
        "outputId": "0dcff257-1800-4043-d420-dd0cfdc9d335"
      },
      "execution_count": 45,
      "outputs": [
        {
          "output_type": "stream",
          "name": "stdout",
          "text": [
            "['아', '더빙', '진짜', '짜증나네요', '목소리']\n",
            "['흠', '포스터보고', '초딩영화줄', '오버연기조', '가볍지', '않구나']\n",
            "['너무재밓었']\n",
            "['교도소', '이야기구먼', '솔직히', '재미는', '없다', '평점', '조정']\n",
            "['사이몬페그', '익살스런', '연기가', '돋보였던', '영화', '!', '스파이더맨', '늙어보이기', '했던', '커스틴', '던스트가', '너무나도', '이뻐보였다']\n"
          ]
        }
      ]
    },
    {
      "cell_type": "code",
      "source": [
        "# 25글자로 바꾸고 padding을 넣는 작업\n",
        "# pad_sequences : padding을 넣기 위함\n",
        "# 모든 단어를 사용하지 않고, 출현 빈도가 가장 높은 일부 단어만 사용 -> Tokenizer 사용\n",
        "\n",
        "tokenizer = Tokenizer(num_words = 2000) # 가장 빈도가 높은 상위 num_words개의 단어만을 선택하여 토큰으로 만든다. (상위 2000개)\n",
        "tokenizer.fit_on_texts(sentences) # data를 실제로 입력한다.\n",
        "train_X = tokenizer.texts_to_sequences(sentences) # 각 단어를 숫자로 변환한다.\n",
        "train_X = pad_sequences(train_X, padding = 'post') # pre : 문장의 맨 앞에 padding, post : 문장의 맨 뒤에 padding\n",
        "\n",
        "train_X[:10]"
      ],
      "metadata": {
        "colab": {
          "base_uri": "https://localhost:8080/"
        },
        "id": "Ryv7NQwC8sZA",
        "outputId": "ed9d3909-0b7b-477c-b86b-93141499e631"
      },
      "execution_count": 46,
      "outputs": [
        {
          "output_type": "execute_result",
          "data": {
            "text/plain": [
              "array([[  25,  884,    8, 1111,    0,    0,    0,    0,    0,    0,    0,\n",
              "           0,    0,    0,    0,    0,    0,    0,    0,    0,    0,    0,\n",
              "           0,    0,    0],\n",
              "       [ 588,    0,    0,    0,    0,    0,    0,    0,    0,    0,    0,\n",
              "           0,    0,    0,    0,    0,    0,    0,    0,    0,    0,    0,\n",
              "           0,    0,    0],\n",
              "       [   0,    0,    0,    0,    0,    0,    0,    0,    0,    0,    0,\n",
              "           0,    0,    0,    0,    0,    0,    0,    0,    0,    0,    0,\n",
              "           0,    0,    0],\n",
              "       [  71,  346,   31,   35,    0,    0,    0,    0,    0,    0,    0,\n",
              "           0,    0,    0,    0,    0,    0,    0,    0,    0,    0,    0,\n",
              "           0,    0,    0],\n",
              "       [ 106,    4,    2,  869,  573,    0,    0,    0,    0,    0,    0,\n",
              "           0,    0,    0,    0,    0,    0,    0,    0,    0,    0,    0,\n",
              "           0,    0,    0],\n",
              "       [ 583,  404,    1,    0,    0,    0,    0,    0,    0,    0,    0,\n",
              "           0,    0,    0,    0,    0,    0,    0,    0,    0,    0,    0,\n",
              "           0,    0,    0],\n",
              "       [1099,  136,    1,    0,    0,    0,    0,    0,    0,    0,    0,\n",
              "           0,    0,    0,    0,    0,    0,    0,    0,    0,    0,    0,\n",
              "           0,    0,    0],\n",
              "       [ 109, 1220,   58,    7,    0,    0,    0,    0,    0,    0,    0,\n",
              "           0,    0,    0,    0,    0,    0,    0,    0,    0,    0,    0,\n",
              "           0,    0,    0],\n",
              "       [ 711,   90,   41,    4,    0,    0,    0,    0,    0,    0,    0,\n",
              "           0,    0,    0,    0,    0,    0,    0,    0,    0,    0,    0,\n",
              "           0,    0,    0],\n",
              "       [1160,   43,    5,  284,    6,  946,    5,    1,    0,    0,    0,\n",
              "           0,    0,    0,    0,    0,    0,    0,    0,    0,    0,    0,\n",
              "           0,    0,    0]], dtype=int32)"
            ]
          },
          "metadata": {},
          "execution_count": 46
        }
      ]
    },
    {
      "cell_type": "code",
      "source": [
        "for idx, word in enumerate(range(1, 26), 0):\n",
        "  print(idx, tokenizer.index_word[word])"
      ],
      "metadata": {
        "colab": {
          "base_uri": "https://localhost:8080/"
        },
        "id": "HlsQBKF__CRx",
        "outputId": "3375a41b-6432-41a3-f3fd-4b468b1d3c61"
      },
      "execution_count": 47,
      "outputs": [
        {
          "output_type": "stream",
          "name": "stdout",
          "text": [
            "0 \n",
            "1 !\n",
            "2 ,\n",
            "3 영화\n",
            "4 \\?\n",
            "5 너무\n",
            "6 정말\n",
            "7 진짜\n",
            "8 이\n",
            "9 그냥\n",
            "10 왜\n",
            "11 이런\n",
            "12 더\n",
            "13 수\n",
            "14 영화를\n",
            "15 다\n",
            "16 잘\n",
            "17 보고\n",
            "18 좀\n",
            "19 영화는\n",
            "20 영화가\n",
            "21 그\n",
            "22 봤는데\n",
            "23 본\n",
            "24 아\n"
          ]
        }
      ]
    },
    {
      "cell_type": "markdown",
      "source": [
        "## 딥러닝 모형 정의 및 학습\n",
        "\n",
        "* embedding Layer\n",
        "\n",
        "* LSTM Layer\n",
        "\n",
        "* Dense Layer\n",
        "\n",
        "embedding layer와 LSTM layer를 연결한 뒤, 마지막에 Dense Layer의 softmax 함수 사용 후 sentiment classification"
      ],
      "metadata": {
        "id": "bx4eKlUq_wiY"
      }
    },
    {
      "cell_type": "code",
      "source": [
        "model = tf.keras.Sequential([\n",
        "    tf.keras.layers.Embedding(20000, 300, input_length = 25), # input dim : 20,000, output dim : 300, input length : 25\n",
        "    tf.keras.layers.LSTM(units = 50),\n",
        "    tf.keras.layers.Dense(2, activation = 'softmax')\n",
        "])\n",
        "\n",
        "model.compile(optimizer = 'adam', loss = 'sparse_categorical_crossentropy', metrics = ['accuracy'])\n",
        "model.summary()"
      ],
      "metadata": {
        "colab": {
          "base_uri": "https://localhost:8080/"
        },
        "id": "7vOw7vnK_oVF",
        "outputId": "07415c98-73ca-4181-dfea-625215cfca20"
      },
      "execution_count": 48,
      "outputs": [
        {
          "output_type": "stream",
          "name": "stdout",
          "text": [
            "Model: \"sequential_3\"\n",
            "_________________________________________________________________\n",
            " Layer (type)                Output Shape              Param #   \n",
            "=================================================================\n",
            " embedding_3 (Embedding)     (None, 25, 300)           6000000   \n",
            "                                                                 \n",
            " lstm_3 (LSTM)               (None, 50)                70200     \n",
            "                                                                 \n",
            " dense_3 (Dense)             (None, 2)                 102       \n",
            "                                                                 \n",
            "=================================================================\n",
            "Total params: 6070302 (23.16 MB)\n",
            "Trainable params: 6070302 (23.16 MB)\n",
            "Non-trainable params: 0 (0.00 Byte)\n",
            "_________________________________________________________________\n"
          ]
        }
      ]
    },
    {
      "cell_type": "code",
      "source": [
        "# 모델 학습\n",
        "history = model.fit(train_X, train_Y, epochs = 10, batch_size = 128, validation_split = 0.2)"
      ],
      "metadata": {
        "colab": {
          "base_uri": "https://localhost:8080/"
        },
        "id": "bBugbrtKA6zL",
        "outputId": "940b9cca-7314-424f-9dbd-5cd0fe88ac37"
      },
      "execution_count": 49,
      "outputs": [
        {
          "output_type": "stream",
          "name": "stdout",
          "text": [
            "Epoch 1/10\n",
            "938/938 [==============================] - 21s 21ms/step - loss: 0.4887 - accuracy: 0.7405 - val_loss: 0.4579 - val_accuracy: 0.7644\n",
            "Epoch 2/10\n",
            "938/938 [==============================] - 8s 8ms/step - loss: 0.4481 - accuracy: 0.7645 - val_loss: 0.4557 - val_accuracy: 0.7682\n",
            "Epoch 3/10\n",
            "938/938 [==============================] - 7s 8ms/step - loss: 0.4380 - accuracy: 0.7699 - val_loss: 0.4488 - val_accuracy: 0.7694\n",
            "Epoch 4/10\n",
            "938/938 [==============================] - 7s 8ms/step - loss: 0.4285 - accuracy: 0.7741 - val_loss: 0.4481 - val_accuracy: 0.7692\n",
            "Epoch 5/10\n",
            "938/938 [==============================] - 7s 8ms/step - loss: 0.4204 - accuracy: 0.7774 - val_loss: 0.4503 - val_accuracy: 0.7676\n",
            "Epoch 6/10\n",
            "938/938 [==============================] - 8s 9ms/step - loss: 0.4112 - accuracy: 0.7834 - val_loss: 0.4590 - val_accuracy: 0.7589\n",
            "Epoch 7/10\n",
            "938/938 [==============================] - 6s 7ms/step - loss: 0.4017 - accuracy: 0.7896 - val_loss: 0.4626 - val_accuracy: 0.7661\n",
            "Epoch 8/10\n",
            "938/938 [==============================] - 7s 8ms/step - loss: 0.3916 - accuracy: 0.7940 - val_loss: 0.4724 - val_accuracy: 0.7649\n",
            "Epoch 9/10\n",
            "938/938 [==============================] - 6s 7ms/step - loss: 0.3821 - accuracy: 0.7999 - val_loss: 0.4806 - val_accuracy: 0.7619\n",
            "Epoch 10/10\n",
            "938/938 [==============================] - 7s 7ms/step - loss: 0.3721 - accuracy: 0.8029 - val_loss: 0.5014 - val_accuracy: 0.7633\n"
          ]
        }
      ]
    },
    {
      "cell_type": "markdown",
      "source": [
        "## 학습 결과 테스트\n",
        "\n",
        "* train과 똑같은 전처리 과정"
      ],
      "metadata": {
        "id": "ifG3l5ckBy2h"
      }
    },
    {
      "cell_type": "code",
      "source": [
        "test_text_X = [row.split('\\t')[1] for row in test_text.split('\\n')[1:] if row.count('\\t') > 0]\n",
        "test_text_X = [clean_str(sentence) for sentence in test_text_X]\n",
        "\n",
        "# 문장을 띄어쓰기 단위로 단어 분리\n",
        "sentences = [sentence.split(' ') for sentence in test_text_X]\n",
        "sentence_new = []\n",
        "for sentence in sentences:\n",
        "  sentence_new.append([word[:5] for word in sentence][:25])\n",
        "\n",
        "sentences = sentence_new\n",
        "\n",
        "test_X = tokenizer.texts_to_sequences(sentences)\n",
        "test_X = pad_sequences(test_X, padding='post')"
      ],
      "metadata": {
        "id": "kt1d2BxEBzuK"
      },
      "execution_count": 50,
      "outputs": []
    },
    {
      "cell_type": "code",
      "source": [
        "model.evaluate(test_X, test_Y, verbose=0)"
      ],
      "metadata": {
        "colab": {
          "base_uri": "https://localhost:8080/"
        },
        "id": "He5wur49CUN4",
        "outputId": "ab74c523-e4fe-4e3a-9c3d-e6e20365550f"
      },
      "execution_count": 51,
      "outputs": [
        {
          "output_type": "execute_result",
          "data": {
            "text/plain": [
              "[0.5103679895401001, 0.7567399740219116]"
            ]
          },
          "metadata": {},
          "execution_count": 51
        }
      ]
    }
  ]
}