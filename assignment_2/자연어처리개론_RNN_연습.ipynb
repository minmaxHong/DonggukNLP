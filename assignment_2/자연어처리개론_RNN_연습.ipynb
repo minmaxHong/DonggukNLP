{
  "nbformat": 4,
  "nbformat_minor": 0,
  "metadata": {
    "colab": {
      "provenance": [],
      "gpuType": "T4"
    },
    "kernelspec": {
      "name": "python3",
      "display_name": "Python 3"
    },
    "language_info": {
      "name": "python"
    },
    "accelerator": "GPU"
  },
  "cells": [
    {
      "cell_type": "code",
      "source": [
        "import numpy as np\n",
        "import tensorflow as tf\n",
        "from tensorflow.keras.layers import SimpleRNN"
      ],
      "metadata": {
        "id": "jmrfNOJpFLhd"
      },
      "execution_count": 15,
      "outputs": []
    },
    {
      "cell_type": "code",
      "source": [
        "train_X = [[[0.1, 4.2, 1.5, 1.1, 2.8], [1.0, 3.1, 2.5, 0.7, 1.1], [0.3, 2.1, 1.5, 2.1, 0.1], [2.2, 1.4, 0.5, 0.9, 1.1]]]\n",
        "train_X = np.array(train_X, dtype=np.float32)\n",
        "print(train_X.shape)"
      ],
      "metadata": {
        "colab": {
          "base_uri": "https://localhost:8080/"
        },
        "id": "Wmi-PJzcFT95",
        "outputId": "d76eda7c-0816-4fd8-9200-12c0c359ffc1"
      },
      "execution_count": 16,
      "outputs": [
        {
          "output_type": "stream",
          "name": "stdout",
          "text": [
            "(1, 4, 5)\n"
          ]
        }
      ]
    },
    {
      "cell_type": "code",
      "source": [
        "rnn = SimpleRNN(3)\n",
        "\n",
        "hidden_state = rnn(train_X)\n",
        "print('hidden state : {}, shape: {}'.format(hidden_state, hidden_state.shape))"
      ],
      "metadata": {
        "colab": {
          "base_uri": "https://localhost:8080/"
        },
        "id": "Qhq8v5NqFeMi",
        "outputId": "25c4cc89-5a52-4f6c-a0c7-f9c8c3c421da"
      },
      "execution_count": 17,
      "outputs": [
        {
          "output_type": "stream",
          "name": "stdout",
          "text": [
            "hidden state : [[ 0.25919518  0.08089339 -0.05048331]], shape: (1, 3)\n"
          ]
        }
      ]
    },
    {
      "cell_type": "code",
      "source": [
        "rnn = SimpleRNN(3, return_sequences=True)\n",
        "hidden_states = rnn(train_X)\n",
        "\n",
        "print('hidden states : {}, shape: {}'.format(hidden_states, hidden_states.shape))"
      ],
      "metadata": {
        "colab": {
          "base_uri": "https://localhost:8080/"
        },
        "id": "F9ygZYCEHXCU",
        "outputId": "1e7e6f08-db6a-41c7-c7f5-16c0e2542392"
      },
      "execution_count": 18,
      "outputs": [
        {
          "output_type": "stream",
          "name": "stdout",
          "text": [
            "hidden states : [[[ 0.99594396  0.995177    0.9997523 ]\n",
            "  [ 0.9998769   0.9664992   0.9840426 ]\n",
            "  [ 0.9992054   0.98018223 -0.30249882]\n",
            "  [ 0.97911763  0.9830205  -0.63342446]]], shape: (1, 4, 3)\n"
          ]
        }
      ]
    },
    {
      "cell_type": "code",
      "source": [
        "# return_state : 마지막 hidden state\n",
        "# return_sequences : 모든 hidden state\n",
        "rnn = SimpleRNN(3, return_sequences=True, return_state=True)\n",
        "hidden_states, last_state = rnn(train_X)\n",
        "\n",
        "print('hidden states : {}, shape: {}'.format(hidden_states, hidden_states.shape))\n",
        "print('last hidden state : {}, shape: {}'.format(last_state, last_state.shape))"
      ],
      "metadata": {
        "colab": {
          "base_uri": "https://localhost:8080/"
        },
        "id": "fvaOvDtgHwqc",
        "outputId": "0c41408e-86d2-4581-be3d-60e7b0f05f15"
      },
      "execution_count": 19,
      "outputs": [
        {
          "output_type": "stream",
          "name": "stdout",
          "text": [
            "hidden states : [[[ 0.36926952 -0.2318319  -0.5561888 ]\n",
            "  [ 0.87833863  0.09057745  0.5697336 ]\n",
            "  [ 0.9840636  -0.7351766  -0.96073014]\n",
            "  [ 0.03895319 -0.85895073  0.89597225]]], shape: (1, 4, 3)\n",
            "last hidden state : [[ 0.03895319 -0.85895073  0.89597225]], shape: (1, 3)\n"
          ]
        }
      ]
    }
  ]
}