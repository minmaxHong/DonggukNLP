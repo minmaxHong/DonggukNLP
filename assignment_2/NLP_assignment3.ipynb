{
  "nbformat": 4,
  "nbformat_minor": 0,
  "metadata": {
    "colab": {
      "provenance": [],
      "gpuType": "T4"
    },
    "kernelspec": {
      "name": "python3",
      "display_name": "Python 3"
    },
    "language_info": {
      "name": "python"
    },
    "accelerator": "GPU"
  },
  "cells": [
    {
      "cell_type": "markdown",
      "source": [
        "## Import Libraries"
      ],
      "metadata": {
        "id": "nNe_4g2bJgTv"
      }
    },
    {
      "cell_type": "code",
      "source": [
        "# !pip install nltk==3.5\n",
        "# !pip install numpy matplotlib"
      ],
      "metadata": {
        "id": "wnu6HZnqJdkI"
      },
      "execution_count": 89,
      "outputs": []
    },
    {
      "cell_type": "code",
      "execution_count": 90,
      "metadata": {
        "colab": {
          "base_uri": "https://localhost:8080/"
        },
        "id": "3bFvtnAcJEqd",
        "outputId": "1fcd19c7-7bd6-4d6d-b590-b7f5cd856299"
      },
      "outputs": [
        {
          "output_type": "stream",
          "name": "stderr",
          "text": [
            "[nltk_data] Downloading package punkt to /root/nltk_data...\n",
            "[nltk_data]   Package punkt is already up-to-date!\n",
            "[nltk_data] Downloading package stopwords to /root/nltk_data...\n",
            "[nltk_data]   Package stopwords is already up-to-date!\n",
            "[nltk_data] Downloading package wordnet to /root/nltk_data...\n",
            "[nltk_data]   Package wordnet is already up-to-date!\n"
          ]
        },
        {
          "output_type": "stream",
          "name": "stdout",
          "text": [
            "Drive already mounted at /content/drive; to attempt to forcibly remount, call drive.mount(\"/content/drive\", force_remount=True).\n"
          ]
        }
      ],
      "source": [
        "import matplotlib.pyplot as plt\n",
        "import tensorflow as tf\n",
        "import pandas as pd\n",
        "import numpy as np\n",
        "import re\n",
        "import string\n",
        "from collections import defaultdict\n",
        "from sklearn.model_selection import train_test_split\n",
        "from nltk.tokenize import word_tokenize\n",
        "from nltk.corpus import stopwords\n",
        "from nltk.stem import PorterStemmer, WordNetLemmatizer\n",
        "from sklearn.metrics import accuracy_score, precision_score, recall_score, f1_score, classification_report, confusion_matrix\n",
        "import nltk\n",
        "import matplotlib.pyplot as plt\n",
        "import seaborn as sns\n",
        "nltk.download('punkt')\n",
        "nltk.download('stopwords')\n",
        "nltk.download('wordnet')\n",
        "stop_words = set(stopwords.words('english'))\n",
        "\n",
        "from sklearn.metrics import classification_report\n",
        "from tensorflow.keras.callbacks import EarlyStopping\n",
        "from tensorflow.keras.preprocessing.text import Tokenizer\n",
        "from tensorflow.keras.preprocessing.sequence import pad_sequences\n",
        "\n",
        "from google.colab import drive\n",
        "drive.mount('/content/drive')"
      ]
    },
    {
      "cell_type": "code",
      "source": [],
      "metadata": {
        "id": "1XlT-L7jrjJz"
      },
      "execution_count": 90,
      "outputs": []
    },
    {
      "cell_type": "markdown",
      "source": [
        "## Load Data & Processing"
      ],
      "metadata": {
        "id": "zBAWBzDEJjHp"
      }
    },
    {
      "cell_type": "code",
      "source": [
        "# 0 : Negative, 1 : Positive\n",
        "\n",
        "# Load Data\n",
        "train_df = pd.read_csv('/content/drive/MyDrive/자연어처리개론/train.tsv', sep = \"\\t\")\n",
        "test_df = pd.read_csv('/content/drive/MyDrive/자연어처리개론/dev.tsv', sep = \"\\t\")"
      ],
      "metadata": {
        "id": "BmMY3hOOJlzY"
      },
      "execution_count": 91,
      "outputs": []
    },
    {
      "cell_type": "code",
      "source": [
        "stemmer = PorterStemmer()\n",
        "lemmatizer = WordNetLemmatizer()\n",
        "\n",
        "def preprocess_sentence(sentence):\n",
        "    translator = str.maketrans('', '', string.punctuation)\n",
        "    sentence = sentence.translate(translator)\n",
        "\n",
        "    sentence = sentence.lower()\n",
        "\n",
        "    tokens = word_tokenize(sentence)\n",
        "\n",
        "    tokens = [word for word in tokens if word not in stop_words]\n",
        "\n",
        "    lemmatized_tokens = [lemmatizer.lemmatize(word) for word in tokens]\n",
        "\n",
        "    return lemmatized_tokens\n",
        "\n",
        "train_df['Tokenized_Sentence'] = train_df['sentence'].apply(preprocess_sentence)\n",
        "test_df['Tokenized_Sentence'] = test_df['sentence'].apply(preprocess_sentence)"
      ],
      "metadata": {
        "id": "BweE2b9xJ2Ne"
      },
      "execution_count": 92,
      "outputs": []
    },
    {
      "cell_type": "code",
      "source": [
        "train_X = train_df['Tokenized_Sentence'].values\n",
        "train_y = train_df['label'].values\n",
        "\n",
        "test_X = test_df['Tokenized_Sentence'].values\n",
        "test_y = test_df['label'].values\n",
        "\n",
        "train_X"
      ],
      "metadata": {
        "colab": {
          "base_uri": "https://localhost:8080/"
        },
        "id": "B6w2TYRgKPqR",
        "outputId": "c2790ab1-5b4a-4576-ec01-3d357800bdcb"
      },
      "execution_count": 93,
      "outputs": [
        {
          "output_type": "execute_result",
          "data": {
            "text/plain": [
              "array([list(['hide', 'new', 'secretion', 'parental', 'unit']),\n",
              "       list(['contains', 'wit', 'labored', 'gag']),\n",
              "       list(['love', 'character', 'communicates', 'something', 'rather', 'beautiful', 'human', 'nature']),\n",
              "       ..., list(['achieving', 'modest', 'crowdpleasing', 'goal', 'set']),\n",
              "       list(['patient', 'viewer']),\n",
              "       list(['new', 'jangle', 'noise', 'mayhem', 'stupidity', 'must', 'serious', 'contender', 'title'])],\n",
              "      dtype=object)"
            ]
          },
          "metadata": {},
          "execution_count": 93
        }
      ]
    },
    {
      "cell_type": "code",
      "source": [
        "# pair data 개수 확인하기\n",
        "print(\"Length train_X : {}\" .format(len(train_X)))\n",
        "print(\"Length test_y : {}\\n\" .format(len(train_y)))\n",
        "\n",
        "print(\"Length test_X : {}\" .format(len(test_X)))\n",
        "print(\"Length test_y : {}\" .format(len(test_y)))"
      ],
      "metadata": {
        "colab": {
          "base_uri": "https://localhost:8080/"
        },
        "id": "srgtGTkSKqbx",
        "outputId": "a509d2e6-aad0-44f3-dd34-3bbd1dfd1e4b"
      },
      "execution_count": 94,
      "outputs": [
        {
          "output_type": "stream",
          "name": "stdout",
          "text": [
            "Length train_X : 67349\n",
            "Length test_y : 67349\n",
            "\n",
            "Length test_X : 872\n",
            "Length test_y : 872\n"
          ]
        }
      ]
    },
    {
      "cell_type": "code",
      "source": [
        "# network에 입력하려면, data의 크기(문장의 길이)는 동일해야함 -> padding\n",
        "# 최대 단어 길이 : 28 -> 28을 기준으로 모든 vector를 28로 길이를 맞춰준다.\n",
        "train_X_len = [len(x) for x in train_X]\n",
        "train_X_len = sorted(train_X_len)\n",
        "\n",
        "test_X_len = [len(x) for x in test_X]\n",
        "test_X_len = sorted(test_X_len)\n",
        "\n",
        "plt.plot(train_X_len)\n",
        "plt.show()"
      ],
      "metadata": {
        "colab": {
          "base_uri": "https://localhost:8080/",
          "height": 430
        },
        "id": "UXHdn6-eh6rr",
        "outputId": "3e613b6c-f8ef-4ee0-8405-8bbf53bdf698"
      },
      "execution_count": 95,
      "outputs": [
        {
          "output_type": "display_data",
          "data": {
            "text/plain": [
              "<Figure size 640x480 with 1 Axes>"
            ],
            "image/png": "[encoded data removed]"
          },
          "metadata": {}
        }
      ]
    },
    {
      "cell_type": "code",
      "source": [
        "tokenizer = Tokenizer()\n",
        "tokenizer.fit_on_texts(train_X)\n",
        "train_X = tokenizer.texts_to_sequences(train_X)\n",
        "train_X = pad_sequences(train_X, maxlen = 28, padding = 'post')\n",
        "\n",
        "test_X = tokenizer.texts_to_sequences(test_X)\n",
        "test_X = pad_sequences(test_X, maxlen = 28, padding = 'post')"
      ],
      "metadata": {
        "id": "XMxaY86Cjjhy"
      },
      "execution_count": 96,
      "outputs": []
    },
    {
      "cell_type": "code",
      "source": [
        "# 확인\n",
        "train_X[:10]"
      ],
      "metadata": {
        "colab": {
          "base_uri": "https://localhost:8080/"
        },
        "id": "PGlDACSWkp8v",
        "outputId": "12924fa0-880b-426c-ecdb-a3f4b4659cae"
      },
      "execution_count": 97,
      "outputs": [
        {
          "output_type": "execute_result",
          "data": {
            "text/plain": [
              "array([[ 4112,    26, 11315,  6664,  4733,     0,     0,     0,     0,\n",
              "            0,     0,     0,     0,     0,     0,     0,     0,     0,\n",
              "            0,     0,     0,     0,     0,     0,     0,     0,     0,\n",
              "            0],\n",
              "       [ 2688,   227,  1819,   413,     0,     0,     0,     0,     0,\n",
              "            0,     0,     0,     0,     0,     0,     0,     0,     0,\n",
              "            0,     0,     0,     0,     0,     0,     0,     0,     0,\n",
              "            0],\n",
              "       [   21,     6,  5520,    29,   104,   169,    93,   523,     0,\n",
              "            0,     0,     0,     0,     0,     0,     0,     0,     0,\n",
              "            0,     0,     0,     0,     0,     0,     0,     0,     0,\n",
              "            0],\n",
              "       [  489,   568,  5521,  1820,   583,     0,     0,     0,     0,\n",
              "            0,     0,     0,     0,     0,     0,     0,     0,     0,\n",
              "            0,     0,     0,     0,     0,     0,     0,     0,     0,\n",
              "            0],\n",
              "       [  161,  4734,   447,   102,    48,  4378,     0,     0,     0,\n",
              "            0,     0,     0,     0,     0,     0,     0,     0,     0,\n",
              "            0,     0,     0,     0,     0,     0,     0,     0,     0,\n",
              "            0],\n",
              "       [   94,   656,  1158,   829,   900,     0,     0,     0,     0,\n",
              "            0,     0,     0,     0,     0,     0,     0,     0,     0,\n",
              "            0,     0,     0,     0,     0,     0,     0,     0,     0,\n",
              "            0],\n",
              "       [ 2499,    30,    84,  1332,  6030,   352,    72,   140,   294,\n",
              "          430,     1,   118,  2786,     0,     0,     0,     0,     0,\n",
              "            0,     0,     0,     0,     0,     0,     0,     0,     0,\n",
              "            0],\n",
              "       [ 6031,     0,     0,     0,     0,     0,     0,     0,     0,\n",
              "            0,     0,     0,     0,     0,     0,     0,     0,     0,\n",
              "            0,     0,     0,     0,     0,     0,     0,     0,     0,\n",
              "            0],\n",
              "       [ 3501,  6665,  6666,   730,     0,     0,     0,     0,     0,\n",
              "            0,     0,     0,     0,     0,     0,     0,     0,     0,\n",
              "            0,     0,     0,     0,     0,     0,     0,     0,     0,\n",
              "            0],\n",
              "       [  230,   599,  6032,     1,     0,     0,     0,     0,     0,\n",
              "            0,     0,     0,     0,     0,     0,     0,     0,     0,\n",
              "            0,     0,     0,     0,     0,     0,     0,     0,     0,\n",
              "            0]], dtype=int32)"
            ]
          },
          "metadata": {},
          "execution_count": 97
        }
      ]
    },
    {
      "cell_type": "markdown",
      "source": [
        "## Modeling Layers & Train"
      ],
      "metadata": {
        "id": "fOkWnNiuk0eo"
      }
    },
    {
      "cell_type": "code",
      "source": [
        "model = tf.keras.Sequential([\n",
        "    tf.keras.layers.Embedding(20000, 300, input_length = 28),\n",
        "    tf.keras.layers.LSTM(units = 128),\n",
        "    tf.keras.layers.Dense(2, activation = 'softmax')\n",
        "])\n",
        "\n",
        "model.compile(optimizer = 'adam', loss = 'sparse_categorical_crossentropy', metrics = ['accuracy'])\n",
        "model.summary()"
      ],
      "metadata": {
        "colab": {
          "base_uri": "https://localhost:8080/"
        },
        "id": "xLuVmwkPk4FW",
        "outputId": "2bec6582-df0f-44ac-d53b-a92890aaee19"
      },
      "execution_count": 98,
      "outputs": [
        {
          "output_type": "stream",
          "name": "stdout",
          "text": [
            "Model: \"sequential_10\"\n",
            "_________________________________________________________________\n",
            " Layer (type)                Output Shape              Param #   \n",
            "=================================================================\n",
            " embedding_10 (Embedding)    (None, 28, 300)           6000000   \n",
            "                                                                 \n",
            " lstm_10 (LSTM)              (None, 128)               219648    \n",
            "                                                                 \n",
            " dense_10 (Dense)            (None, 2)                 258       \n",
            "                                                                 \n",
            "=================================================================\n",
            "Total params: 6219906 (23.73 MB)\n",
            "Trainable params: 6219906 (23.73 MB)\n",
            "Non-trainable params: 0 (0.00 Byte)\n",
            "_________________________________________________________________\n"
          ]
        }
      ]
    },
    {
      "cell_type": "code",
      "source": [
        "train_X.shape, train_y.shape"
      ],
      "metadata": {
        "colab": {
          "base_uri": "https://localhost:8080/"
        },
        "id": "ollPdIhusn69",
        "outputId": "377c2990-e2bc-4adb-8bf6-0044b340e023"
      },
      "execution_count": 99,
      "outputs": [
        {
          "output_type": "execute_result",
          "data": {
            "text/plain": [
              "((67349, 28), (67349,))"
            ]
          },
          "metadata": {},
          "execution_count": 99
        }
      ]
    },
    {
      "cell_type": "code",
      "source": [
        "es = EarlyStopping(patience = 3)\n",
        "\n",
        "history = model.fit(train_X, train_y,\n",
        "                    epochs = 20,\n",
        "                    batch_size = 128,\n",
        "                    validation_split = 0.2,\n",
        "                    callbacks = [es],\n",
        "                    )"
      ],
      "metadata": {
        "colab": {
          "base_uri": "https://localhost:8080/"
        },
        "id": "9hKP22oJlZrA",
        "outputId": "62322415-bca4-4970-a7c8-3eed25d468ef"
      },
      "execution_count": 100,
      "outputs": [
        {
          "output_type": "stream",
          "name": "stdout",
          "text": [
            "Epoch 1/20\n",
            "421/421 [==============================] - 79s 44ms/step - loss: 0.4314 - accuracy: 0.7870 - val_loss: 0.2904 - val_accuracy: 0.8853\n",
            "Epoch 2/20\n",
            "421/421 [==============================] - 7s 16ms/step - loss: 0.2333 - accuracy: 0.9127 - val_loss: 0.2810 - val_accuracy: 0.8961\n",
            "Epoch 3/20\n",
            "421/421 [==============================] - 5s 11ms/step - loss: 0.1782 - accuracy: 0.9322 - val_loss: 0.2782 - val_accuracy: 0.9014\n",
            "Epoch 4/20\n",
            "421/421 [==============================] - 3s 8ms/step - loss: 0.1428 - accuracy: 0.9434 - val_loss: 0.2848 - val_accuracy: 0.8998\n",
            "Epoch 5/20\n",
            "421/421 [==============================] - 5s 12ms/step - loss: 0.1170 - accuracy: 0.9534 - val_loss: 0.3180 - val_accuracy: 0.9064\n",
            "Epoch 6/20\n",
            "421/421 [==============================] - 5s 11ms/step - loss: 0.0992 - accuracy: 0.9596 - val_loss: 0.3161 - val_accuracy: 0.9064\n"
          ]
        }
      ]
    },
    {
      "cell_type": "markdown",
      "source": [
        "## Plotting"
      ],
      "metadata": {
        "id": "qUetGed9pGuy"
      }
    },
    {
      "cell_type": "code",
      "source": [
        "plt.plot(history.history['accuracy'])\n",
        "plt.plot(history.history['val_accuracy'])\n",
        "plt.title('model accuracy')\n",
        "plt.ylabel('accuracy')\n",
        "plt.xlabel('epoch')\n",
        "plt.legend(['train', 'val'], loc='upper left')\n",
        "plt.savefig('acc.png')\n",
        "plt.show()"
      ],
      "metadata": {
        "colab": {
          "base_uri": "https://localhost:8080/",
          "height": 472
        },
        "id": "6tPLNivfpItz",
        "outputId": "887f1587-f5f2-435a-a75e-94e2bdc5de35"
      },
      "execution_count": 110,
      "outputs": [
        {
          "output_type": "display_data",
          "data": {
            "text/plain": [
              "<Figure size 640x480 with 1 Axes>"
            ],
            "image/png": "[encoded data removed]"
          },
          "metadata": {}
        }
      ]
    },
    {
      "cell_type": "code",
      "source": [
        "plt.plot(history.history['loss'])\n",
        "plt.plot(history.history['val_loss'])\n",
        "plt.title('model loss')\n",
        "plt.ylabel('loss')\n",
        "plt.xlabel('epoch')\n",
        "plt.legend(['train', 'val'], loc='upper left')\n",
        "plt.savefig('loss.png')\n",
        "plt.show()"
      ],
      "metadata": {
        "colab": {
          "base_uri": "https://localhost:8080/",
          "height": 472
        },
        "id": "03t6gAqwqPEn",
        "outputId": "2cc6cef8-8306-43ad-bdba-36410cc0640b"
      },
      "execution_count": 111,
      "outputs": [
        {
          "output_type": "display_data",
          "data": {
            "text/plain": [
              "<Figure size 640x480 with 1 Axes>"
            ],
            "image/png": "[encoded data removed]"
          },
          "metadata": {}
        }
      ]
    },
    {
      "cell_type": "code",
      "source": [
        "loss, accuracy = model.evaluate(test_X, test_y,\n",
        "                                verbose = False)\n",
        "\n",
        "print('Loss : {}'.format(loss))\n",
        "print('Accuracy : {}'.format(accuracy))"
      ],
      "metadata": {
        "colab": {
          "base_uri": "https://localhost:8080/"
        },
        "id": "kciVLcP5oKo7",
        "outputId": "972520c6-de6a-4486-8b36-9fa8e6eaefcb"
      },
      "execution_count": 108,
      "outputs": [
        {
          "output_type": "stream",
          "name": "stdout",
          "text": [
            "Loss : 0.7088553309440613\n",
            "Accuracy : 0.7981651425361633\n"
          ]
        }
      ]
    },
    {
      "cell_type": "code",
      "source": [
        "y_pred_probs = model.predict(test_X)\n",
        "y_pred = np.argmax(y_pred_probs, axis=1)\n",
        "\n",
        "print(classification_report(test_y, y_pred))"
      ],
      "metadata": {
        "colab": {
          "base_uri": "https://localhost:8080/"
        },
        "id": "O2xUFquMt0-p",
        "outputId": "f886afbd-2c0e-4e38-f717-3be432be1950"
      },
      "execution_count": 109,
      "outputs": [
        {
          "output_type": "stream",
          "name": "stdout",
          "text": [
            "28/28 [==============================] - 2s 5ms/step\n",
            "              precision    recall  f1-score   support\n",
            "\n",
            "           0       0.81      0.77      0.79       428\n",
            "           1       0.79      0.83      0.81       444\n",
            "\n",
            "    accuracy                           0.80       872\n",
            "   macro avg       0.80      0.80      0.80       872\n",
            "weighted avg       0.80      0.80      0.80       872\n",
            "\n"
          ]
        }
      ]
    }
  ]
}