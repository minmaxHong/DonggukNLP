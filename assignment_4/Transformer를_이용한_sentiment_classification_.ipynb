{
  "nbformat": 4,
  "nbformat_minor": 0,
  "metadata": {
    "colab": {
      "provenance": [],
      "gpuType": "T4"
    },
    "kernelspec": {
      "name": "python3",
      "display_name": "Python 3"
    },
    "language_info": {
      "name": "python"
    },
    "accelerator": "GPU"
  },
  "cells": [
    {
      "cell_type": "markdown",
      "source": [
        "## Import Libraries"
      ],
      "metadata": {
        "id": "3KpZEAQJmoue"
      }
    },
    {
      "cell_type": "code",
      "source": [
        "# !pip install nltk==3.5\n",
        "# !pip install tensorflow-addons # adamw"
      ],
      "metadata": {
        "id": "0oNLxPQfmqIN"
      },
      "execution_count": 3,
      "outputs": []
    },
    {
      "cell_type": "code",
      "execution_count": 4,
      "metadata": {
        "colab": {
          "base_uri": "https://localhost:8080/"
        },
        "id": "OV2QQqnBmJZp",
        "outputId": "f6f52515-6313-47aa-cf59-a745d763737f"
      },
      "outputs": [
        {
          "output_type": "stream",
          "name": "stderr",
          "text": [
            "[nltk_data] Downloading package punkt to /root/nltk_data...\n",
            "[nltk_data]   Package punkt is already up-to-date!\n",
            "[nltk_data] Downloading package stopwords to /root/nltk_data...\n",
            "[nltk_data]   Package stopwords is already up-to-date!\n",
            "[nltk_data] Downloading package wordnet to /root/nltk_data...\n",
            "[nltk_data]   Package wordnet is already up-to-date!\n"
          ]
        },
        {
          "output_type": "stream",
          "name": "stdout",
          "text": [
            "Drive already mounted at /content/drive; to attempt to forcibly remount, call drive.mount(\"/content/drive\", force_remount=True).\n"
          ]
        }
      ],
      "source": [
        "import matplotlib.pyplot as plt\n",
        "import tensorflow as tf\n",
        "import pandas as pd\n",
        "import numpy as np\n",
        "import re\n",
        "import string\n",
        "from collections import defaultdict\n",
        "from sklearn.model_selection import train_test_split\n",
        "from nltk.tokenize import word_tokenize\n",
        "from nltk.corpus import stopwords\n",
        "from nltk.stem import PorterStemmer, WordNetLemmatizer\n",
        "from sklearn.metrics import accuracy_score, precision_score, recall_score, f1_score, classification_report, confusion_matrix\n",
        "import nltk\n",
        "import matplotlib.pyplot as plt\n",
        "import seaborn as sns\n",
        "nltk.download('punkt')\n",
        "nltk.download('stopwords')\n",
        "nltk.download('wordnet')\n",
        "stop_words = set(stopwords.words('english'))\n",
        "\n",
        "from sklearn.metrics import classification_report\n",
        "from tensorflow.keras.callbacks import EarlyStopping\n",
        "from tensorflow.keras.preprocessing.text import Tokenizer\n",
        "from tensorflow.keras.preprocessing.sequence import pad_sequences\n",
        "from tensorflow import keras\n",
        "from tensorflow.keras import layers, regularizers\n",
        "from tensorflow_addons.optimizers import AdamW\n",
        "\n",
        "from google.colab import drive\n",
        "drive.mount('/content/drive')"
      ]
    },
    {
      "cell_type": "markdown",
      "source": [
        "## Load Data & Processing"
      ],
      "metadata": {
        "id": "MwQ14eo7mzmG"
      }
    },
    {
      "cell_type": "code",
      "source": [
        "# 0 : Negative, 1 : Positive\n",
        "\n",
        "# Load Data\n",
        "train_df = pd.read_csv('/content/drive/MyDrive/자연어처리개론/train.tsv', sep = \"\\t\")\n",
        "test_df = pd.read_csv('/content/drive/MyDrive/자연어처리개론/dev.tsv', sep = \"\\t\")"
      ],
      "metadata": {
        "id": "mbP0vK67mwKI"
      },
      "execution_count": 5,
      "outputs": []
    },
    {
      "cell_type": "code",
      "source": [
        "stemmer = PorterStemmer()\n",
        "lemmatizer = WordNetLemmatizer()\n",
        "\n",
        "def preprocess_sentence(sentence):\n",
        "    translator = str.maketrans('', '', string.punctuation)\n",
        "    sentence = sentence.translate(translator)\n",
        "\n",
        "    sentence = sentence.lower()\n",
        "\n",
        "    tokens = word_tokenize(sentence)\n",
        "\n",
        "    tokens = [word for word in tokens if word not in stop_words]\n",
        "\n",
        "    lemmatized_tokens = [lemmatizer.lemmatize(word) for word in tokens]\n",
        "\n",
        "    return lemmatized_tokens\n",
        "\n",
        "train_df['Tokenized_Sentence'] = train_df['sentence'].apply(preprocess_sentence)\n",
        "test_df['Tokenized_Sentence'] = test_df['sentence'].apply(preprocess_sentence)"
      ],
      "metadata": {
        "id": "JkFYcV-sm1Oj"
      },
      "execution_count": 6,
      "outputs": []
    },
    {
      "cell_type": "code",
      "source": [
        "train_X = train_df['Tokenized_Sentence'].values\n",
        "train_y = train_df['label'].values\n",
        "\n",
        "test_X = test_df['Tokenized_Sentence'].values\n",
        "test_y = test_df['label'].values\n",
        "\n",
        "train_X"
      ],
      "metadata": {
        "colab": {
          "base_uri": "https://localhost:8080/"
        },
        "id": "XCf3xdG5m96V",
        "outputId": "0015e63b-858f-4cfd-d55e-044b2302749d"
      },
      "execution_count": 7,
      "outputs": [
        {
          "output_type": "execute_result",
          "data": {
            "text/plain": [
              "array([list(['hide', 'new', 'secretion', 'parental', 'unit']),\n",
              "       list(['contains', 'wit', 'labored', 'gag']),\n",
              "       list(['love', 'character', 'communicates', 'something', 'rather', 'beautiful', 'human', 'nature']),\n",
              "       ..., list(['achieving', 'modest', 'crowdpleasing', 'goal', 'set']),\n",
              "       list(['patient', 'viewer']),\n",
              "       list(['new', 'jangle', 'noise', 'mayhem', 'stupidity', 'must', 'serious', 'contender', 'title'])],\n",
              "      dtype=object)"
            ]
          },
          "metadata": {},
          "execution_count": 7
        }
      ]
    },
    {
      "cell_type": "code",
      "source": [
        "# network에 입력하려면, data의 크기(문장의 길이)는 동일해야함 -> padding\n",
        "# 최대 단어 길이 : 28 -> 28을 기준으로 모든 vector를 28로 길이를 맞춰준다.\n",
        "train_X_len = [len(x) for x in train_X]\n",
        "train_X_len = sorted(train_X_len)\n",
        "\n",
        "test_X_len = [len(x) for x in test_X]\n",
        "test_X_len = sorted(test_X_len)\n",
        "\n",
        "plt.plot(train_X_len)\n",
        "plt.show()"
      ],
      "metadata": {
        "colab": {
          "base_uri": "https://localhost:8080/",
          "height": 430
        },
        "id": "kV__vxHwnBAN",
        "outputId": "4ef45bb5-3221-4960-8099-042e13547d2c"
      },
      "execution_count": 8,
      "outputs": [
        {
          "output_type": "display_data",
          "data": {
            "text/plain": [
              "<Figure size 640x480 with 1 Axes>"
            ],
            "image/png": "[encoded data removed]"
          },
          "metadata": {}
        }
      ]
    },
    {
      "cell_type": "code",
      "source": [
        "tokenizer = Tokenizer()\n",
        "tokenizer.fit_on_texts(train_X)\n",
        "train_X = tokenizer.texts_to_sequences(train_X)\n",
        "train_X = pad_sequences(train_X, maxlen = 28, padding = 'post')\n",
        "\n",
        "test_X = tokenizer.texts_to_sequences(test_X)\n",
        "test_X = pad_sequences(test_X, maxlen = 28, padding = 'post')"
      ],
      "metadata": {
        "id": "Mb-3Y-NvnB3d"
      },
      "execution_count": 9,
      "outputs": []
    },
    {
      "cell_type": "code",
      "source": [
        "train_X.shape\n",
        "\n",
        "train_X[0]"
      ],
      "metadata": {
        "colab": {
          "base_uri": "https://localhost:8080/"
        },
        "id": "TiYTGsVtFgV8",
        "outputId": "d151505b-0f11-4cda-ef21-173e2448ab72"
      },
      "execution_count": 10,
      "outputs": [
        {
          "output_type": "execute_result",
          "data": {
            "text/plain": [
              "array([ 4112,    26, 11315,  6664,  4733,     0,     0,     0,     0,\n",
              "           0,     0,     0,     0,     0,     0,     0,     0,     0,\n",
              "           0,     0,     0,     0,     0,     0,     0,     0,     0,\n",
              "           0], dtype=int32)"
            ]
          },
          "metadata": {},
          "execution_count": 10
        }
      ]
    },
    {
      "cell_type": "code",
      "source": [
        "train_y"
      ],
      "metadata": {
        "colab": {
          "base_uri": "https://localhost:8080/"
        },
        "id": "bBEfobdBG89W",
        "outputId": "cd09f91a-6db2-4756-ddfc-e21a5fbce4f3"
      },
      "execution_count": 11,
      "outputs": [
        {
          "output_type": "execute_result",
          "data": {
            "text/plain": [
              "array([0, 0, 1, ..., 1, 1, 0])"
            ]
          },
          "metadata": {},
          "execution_count": 11
        }
      ]
    },
    {
      "cell_type": "code",
      "source": [
        "print(\"Padding Result : \", train_X.shape, test_X.shape)"
      ],
      "metadata": {
        "colab": {
          "base_uri": "https://localhost:8080/"
        },
        "id": "lPvtdqbunECZ",
        "outputId": "b4551703-3e59-4d52-ff17-643b769a1425"
      },
      "execution_count": 12,
      "outputs": [
        {
          "output_type": "stream",
          "name": "stdout",
          "text": [
            "Padding Result :  (67349, 28) (872, 28)\n"
          ]
        }
      ]
    },
    {
      "cell_type": "markdown",
      "source": [
        "## Modeling Layers & Train\n",
        "\n",
        "Reference\n",
        "- https://github.com/Parkchanjun/KU-NLP-2020-1/blob/master/%5B4%5D%20Transformer%EB%A5%BC_%EC%9D%B4%EC%9A%A9%ED%95%9C_%EA%B0%90%EC%A0%95%EB%B6%84%EC%84%9D_%EC%98%81%EC%96%B4.ipynb"
      ],
      "metadata": {
        "id": "UKcdP8YNnT58"
      }
    },
    {
      "cell_type": "code",
      "source": [
        "# == Multi Head Attention ==\n",
        "import tensorflow as tf\n",
        "from tensorflow import keras\n",
        "from tensorflow.keras import layers\n",
        "\n",
        "class MultiHeadSelfAttention(layers.Layer):\n",
        "    def __init__(self, embed_dim, num_heads=8):\n",
        "        super(MultiHeadSelfAttention, self).__init__()\n",
        "        self.embed_dim = embed_dim\n",
        "        self.num_heads = num_heads\n",
        "        if embed_dim % num_heads != 0:\n",
        "            raise ValueError(\n",
        "                f\"embedding dimension = {embed_dim} should be divisible by number of heads = {num_heads}\"\n",
        "            )\n",
        "        self.projection_dim = embed_dim // num_heads #Multi-head Attention에서는 query, key, value를 바로 사용하는 것이 아닌 h번의 Linear projection을 따라 서로 다른 representation의 조합으로부터 Attention을 계산하는 방법이다.\n",
        "        self.query_dense = layers.Dense(embed_dim) #쿼리\n",
        "        self.key_dense = layers.Dense(embed_dim) #키\n",
        "        self.value_dense = layers.Dense(embed_dim) #밸류\n",
        "        self.combine_heads = layers.Dense(embed_dim)\n",
        "\n",
        "    def attention(self, query, key, value):\n",
        "        score = tf.matmul(query, key, transpose_b=True) #Q와 V를 곱한다.\n",
        "        dim_key = tf.cast(tf.shape(key)[-1], tf.float32) #텐서를 새로운 자료형으로 변환합니다.(tf.shape(key)[-1] = 차원)\n",
        "        scaled_score = score / tf.math.sqrt(dim_key) #Sclae 작업, K차원의 루트값으로\n",
        "        weights = tf.nn.softmax(scaled_score, axis=-1) #Softmax\n",
        "        output = tf.matmul(weights, value) #V 곱하기\n",
        "        return output, weights\n",
        "\n",
        "    def separate_heads(self, x, batch_size):\n",
        "        x = tf.reshape(x, (batch_size, -1, self.num_heads, self.projection_dim)) #Multihead Attention\n",
        "        return tf.transpose(x, perm=[0, 2, 1, 3]) #x를 전치합니다. perm에 따라 차원의 순서를 구성합니다.\n",
        "\n",
        "    def call(self, inputs):\n",
        "        # x.shape = [batch_size, seq_len, embedding_dim]\n",
        "        batch_size = tf.shape(inputs)[0] #배치크기\n",
        "        query = self.query_dense(inputs)  # (batch_size, seq_len, embed_dim)\n",
        "        key = self.key_dense(inputs)  # (batch_size, seq_len, embed_dim)\n",
        "        value = self.value_dense(inputs)  # (batch_size, seq_len, embed_dim)\n",
        "        query = self.separate_heads(\n",
        "            query, batch_size\n",
        "        )  # (batch_size, num_heads, seq_len, projection_dim) => tf.transpose(x, perm=[0, 2, 1, 3])의 결과\n",
        "        key = self.separate_heads(\n",
        "            key, batch_size\n",
        "        )  # (batch_size, num_heads, seq_len, projection_dim)\n",
        "        value = self.separate_heads(\n",
        "            value, batch_size\n",
        "        )  # (batch_size, num_heads, seq_len, projection_dim)\n",
        "        attention, weights = self.attention(query, key, value) #Self Attention\n",
        "        attention = tf.transpose(\n",
        "            attention, perm=[0, 2, 1, 3]\n",
        "        )  # (batch_size, seq_len, num_heads, projection_dim)\n",
        "        concat_attention = tf.reshape(\n",
        "            attention, (batch_size, -1, self.embed_dim)\n",
        "        )  # (batch_size, seq_len, embed_dim)\n",
        "        output = self.combine_heads(\n",
        "            concat_attention\n",
        "        )  # (batch_size, seq_len, embed_dim)\n",
        "        return output"
      ],
      "metadata": {
        "id": "Ya75UvVJnVV5"
      },
      "execution_count": 13,
      "outputs": []
    },
    {
      "cell_type": "code",
      "source": [
        "# == Transformer Layer ==\n",
        "class TransformerBlock(layers.Layer):\n",
        "    def __init__(self, embed_dim, num_heads, ff_dim, rate=0.1):\n",
        "        super(TransformerBlock, self).__init__()\n",
        "        self.att = MultiHeadSelfAttention(embed_dim, num_heads)\n",
        "        self.ffn = keras.Sequential(\n",
        "            [layers.Dense(ff_dim, activation=\"relu\"), layers.Dense(embed_dim),]\n",
        "        )\n",
        "        self.layernorm1 = layers.LayerNormalization(epsilon=1e-6)\n",
        "        self.layernorm2 = layers.LayerNormalization(epsilon=1e-6)\n",
        "        self.dropout1 = layers.Dropout(rate)\n",
        "        self.dropout2 = layers.Dropout(rate)\n",
        "\n",
        "    def call(self, inputs, training):\n",
        "        attn_output = self.att(inputs) #Multihead Attn 블록\n",
        "        attn_output = self.dropout1(attn_output, training=training) #드롭아웃\n",
        "        out1 = self.layernorm1(inputs + attn_output) #LM + Residual\n",
        "        ffn_output = self.ffn(out1) #FF 블록\n",
        "        ffn_output = self.dropout2(ffn_output, training=training) #드롭아웃\n",
        "        return self.layernorm2(out1 + ffn_output) #LM + Residual"
      ],
      "metadata": {
        "id": "8tX_OuWBngfW"
      },
      "execution_count": 14,
      "outputs": []
    },
    {
      "cell_type": "code",
      "source": [
        "# == Embedding Layer ==\n",
        "class TokenAndPositionEmbedding(layers.Layer):\n",
        "    def __init__(self, maxlen, vocab_size, emded_dim):\n",
        "        super(TokenAndPositionEmbedding, self).__init__()\n",
        "        self.token_emb = layers.Embedding(input_dim=vocab_size, output_dim=emded_dim)\n",
        "        self.pos_emb = layers.Embedding(input_dim=maxlen, output_dim=emded_dim)\n",
        "\n",
        "    def call(self, x):\n",
        "        maxlen = tf.shape(x)[-1]\n",
        "        positions = tf.range(start=0, limit=maxlen, delta=1) #포지션 정보\n",
        "        positions = self.pos_emb(positions) #포지션 임베딩\n",
        "        x = self.token_emb(x) #토큰임베딩\n",
        "        return x + positions #합치기"
      ],
      "metadata": {
        "id": "D5yF9uvrnhw4"
      },
      "execution_count": 15,
      "outputs": []
    },
    {
      "cell_type": "code",
      "source": [
        "# == 모델 구축 ==\n",
        "maxlen = 28 # input sequence의 최대 길이\n",
        "vocab_size = len(tokenizer.word_index) + 1 # 고유 단어의 개수(index를 붙임)\n",
        "\n",
        "embed_dim = 28  # Embedding size for each token -> maxlen와 같아야함\n",
        "num_heads = 2  # Number of attention heads\n",
        "ff_dim = 32  # Hidden layer size in feed forward network inside transformer\n",
        "\n",
        "inputs = layers.Input(shape=(maxlen,)) #처음 입력\n",
        "embedding_layer = TokenAndPositionEmbedding(maxlen, vocab_size, embed_dim) #객체 생성\n",
        "x = embedding_layer(inputs)  #포지셔널 임베딩\n",
        "\n",
        "transformer_block = TransformerBlock(embed_dim, num_heads, ff_dim) #객체 생성\n",
        "x = transformer_block(x) #트랜스포머\n",
        "x = layers.GlobalAveragePooling1D()(x) #Average Pooling\n",
        "x = layers.Dropout(0.5)(x) #드롯아웃 -> Overfitting 방지\n",
        "x = layers.Dense(20, activation=\"relu\", kernel_regularizer=regularizers.l2(0.1))(x) # FFNN\n",
        "x = layers.Dropout(0.5)(x) # 드롭아웃\n",
        "outputs = layers.Dense(2, activation=\"softmax\")(x) # Softmax\n",
        "\n",
        "model = keras.Model(inputs=inputs, outputs=outputs) #모델 생성"
      ],
      "metadata": {
        "id": "JSZ9X_vGniqc"
      },
      "execution_count": 22,
      "outputs": []
    },
    {
      "cell_type": "code",
      "source": [
        "# == 모델 학습 ==\n",
        "# Dropout = 0.1 -> overfitting 났음 (epoch 5기준)\n",
        "# Dropout = 0.5, L2 Regularization ->\n",
        "es = EarlyStopping(monitor='val_loss',\n",
        "                   mode='min',\n",
        "                   verbose=1,\n",
        "                   patience=2\n",
        "                   )\n",
        "optimizer = AdamW(learning_rate=1e-4, weight_decay =1e-4)\n",
        "\n",
        "model.compile(optimizer = optimizer,\n",
        "              loss = \"sparse_categorical_crossentropy\",\n",
        "              metrics=[\"accuracy\"])\n",
        "\n",
        "history = model.fit(\n",
        "    train_X, train_y, batch_size=256, epochs=30, validation_split = 0.2, callbacks = [es]\n",
        "    )\n"
      ],
      "metadata": {
        "colab": {
          "base_uri": "https://localhost:8080/"
        },
        "id": "dv3o8Id_oIW2",
        "outputId": "2d701db6-f348-44de-b657-38a7090bfdb0"
      },
      "execution_count": 23,
      "outputs": [
        {
          "output_type": "stream",
          "name": "stdout",
          "text": [
            "Epoch 1/30\n",
            "211/211 [==============================] - 4s 11ms/step - loss: 2.8956 - accuracy: 0.5093 - val_loss: 2.5846 - val_accuracy: 0.5598\n",
            "Epoch 2/30\n",
            "211/211 [==============================] - 3s 13ms/step - loss: 2.3863 - accuracy: 0.5680 - val_loss: 2.1705 - val_accuracy: 0.7175\n",
            "Epoch 3/30\n",
            "211/211 [==============================] - 3s 13ms/step - loss: 1.9940 - accuracy: 0.6502 - val_loss: 1.7796 - val_accuracy: 0.7817\n",
            "Epoch 4/30\n",
            "211/211 [==============================] - 2s 9ms/step - loss: 1.6315 - accuracy: 0.7387 - val_loss: 1.4135 - val_accuracy: 0.8439\n",
            "Epoch 5/30\n",
            "211/211 [==============================] - 2s 9ms/step - loss: 1.3022 - accuracy: 0.8217 - val_loss: 1.1142 - val_accuracy: 0.8673\n",
            "Epoch 6/30\n",
            "211/211 [==============================] - 2s 9ms/step - loss: 1.0404 - accuracy: 0.8729 - val_loss: 0.9091 - val_accuracy: 0.8800\n",
            "Epoch 7/30\n",
            "211/211 [==============================] - 2s 9ms/step - loss: 0.8412 - accuracy: 0.8999 - val_loss: 0.7691 - val_accuracy: 0.8826\n",
            "Epoch 8/30\n",
            "211/211 [==============================] - 2s 10ms/step - loss: 0.6941 - accuracy: 0.9148 - val_loss: 0.6409 - val_accuracy: 0.8942\n",
            "Epoch 9/30\n",
            "211/211 [==============================] - 3s 15ms/step - loss: 0.5751 - accuracy: 0.9246 - val_loss: 0.5516 - val_accuracy: 0.8983\n",
            "Epoch 10/30\n",
            "211/211 [==============================] - 2s 9ms/step - loss: 0.4836 - accuracy: 0.9327 - val_loss: 0.5018 - val_accuracy: 0.8870\n",
            "Epoch 11/30\n",
            "211/211 [==============================] - 2s 9ms/step - loss: 0.4127 - accuracy: 0.9369 - val_loss: 0.4324 - val_accuracy: 0.9025\n",
            "Epoch 12/30\n",
            "211/211 [==============================] - 2s 10ms/step - loss: 0.3594 - accuracy: 0.9409 - val_loss: 0.3982 - val_accuracy: 0.8987\n",
            "Epoch 13/30\n",
            "211/211 [==============================] - 2s 9ms/step - loss: 0.3176 - accuracy: 0.9442 - val_loss: 0.3664 - val_accuracy: 0.9042\n",
            "Epoch 14/30\n",
            "211/211 [==============================] - 2s 9ms/step - loss: 0.2846 - accuracy: 0.9468 - val_loss: 0.3455 - val_accuracy: 0.9055\n",
            "Epoch 15/30\n",
            "211/211 [==============================] - 3s 15ms/step - loss: 0.2634 - accuracy: 0.9467 - val_loss: 0.3371 - val_accuracy: 0.9030\n",
            "Epoch 16/30\n",
            "211/211 [==============================] - 2s 11ms/step - loss: 0.2412 - accuracy: 0.9503 - val_loss: 0.3213 - val_accuracy: 0.9042\n",
            "Epoch 17/30\n",
            "211/211 [==============================] - 2s 9ms/step - loss: 0.2284 - accuracy: 0.9519 - val_loss: 0.3162 - val_accuracy: 0.9045\n",
            "Epoch 18/30\n",
            "211/211 [==============================] - 2s 9ms/step - loss: 0.2172 - accuracy: 0.9533 - val_loss: 0.3113 - val_accuracy: 0.9066\n",
            "Epoch 19/30\n",
            "211/211 [==============================] - 2s 9ms/step - loss: 0.2112 - accuracy: 0.9520 - val_loss: 0.3189 - val_accuracy: 0.9027\n",
            "Epoch 20/30\n",
            "211/211 [==============================] - 2s 10ms/step - loss: 0.2026 - accuracy: 0.9562 - val_loss: 0.3105 - val_accuracy: 0.9044\n",
            "Epoch 21/30\n",
            "211/211 [==============================] - 3s 16ms/step - loss: 0.2002 - accuracy: 0.9555 - val_loss: 0.3076 - val_accuracy: 0.9060\n",
            "Epoch 22/30\n",
            "211/211 [==============================] - 3s 14ms/step - loss: 0.1964 - accuracy: 0.9550 - val_loss: 0.3079 - val_accuracy: 0.9054\n",
            "Epoch 23/30\n",
            "211/211 [==============================] - 2s 10ms/step - loss: 0.1930 - accuracy: 0.9554 - val_loss: 0.3102 - val_accuracy: 0.9065\n",
            "Epoch 23: early stopping\n"
          ]
        }
      ]
    },
    {
      "cell_type": "code",
      "source": [
        "plt.plot(history.history['accuracy'])\n",
        "plt.plot(history.history['val_accuracy'])\n",
        "plt.title('model accuracy')\n",
        "plt.ylabel('accuracy')\n",
        "plt.xlabel('epoch')\n",
        "plt.legend(['train', 'val'], loc='upper left')\n",
        "plt.savefig('acc.png')\n",
        "plt.show()"
      ],
      "metadata": {
        "colab": {
          "base_uri": "https://localhost:8080/",
          "height": 472
        },
        "id": "c-URx5cBo4kk",
        "outputId": "19c83955-8913-485d-fe11-ab86f95d302a"
      },
      "execution_count": 24,
      "outputs": [
        {
          "output_type": "display_data",
          "data": {
            "text/plain": [
              "<Figure size 640x480 with 1 Axes>"
            ],
            "image/png": "[encoded data removed]"
          },
          "metadata": {}
        }
      ]
    },
    {
      "cell_type": "code",
      "source": [
        "plt.plot(history.history['loss'])\n",
        "plt.plot(history.history['val_loss'])\n",
        "plt.title('model loss')\n",
        "plt.ylabel('loss')\n",
        "plt.xlabel('epoch')\n",
        "plt.legend(['train', 'val'], loc='upper left')\n",
        "plt.savefig('loss.png')\n",
        "plt.show()"
      ],
      "metadata": {
        "colab": {
          "base_uri": "https://localhost:8080/",
          "height": 472
        },
        "id": "mwUtvn5Zo5dk",
        "outputId": "6a0a4eb7-d65b-4333-b28f-dffa3046c1cc"
      },
      "execution_count": 25,
      "outputs": [
        {
          "output_type": "display_data",
          "data": {
            "text/plain": [
              "<Figure size 640x480 with 1 Axes>"
            ],
            "image/png": "[encoded data removed]"
          },
          "metadata": {}
        }
      ]
    },
    {
      "cell_type": "code",
      "source": [
        "loss, accuracy = model.evaluate(test_X, test_y,\n",
        "                                verbose = False)\n",
        "\n",
        "print('Loss : {}'.format(loss))\n",
        "print('Accuracy : {}'.format(accuracy))"
      ],
      "metadata": {
        "colab": {
          "base_uri": "https://localhost:8080/"
        },
        "id": "g1go_0O-o6HE",
        "outputId": "3b384993-d6be-4078-94aa-f4a63a1892c5"
      },
      "execution_count": 26,
      "outputs": [
        {
          "output_type": "stream",
          "name": "stdout",
          "text": [
            "Loss : 0.6683444976806641\n",
            "Accuracy : 0.7832568883895874\n"
          ]
        }
      ]
    },
    {
      "cell_type": "code",
      "source": [
        "y_pred_probs = model.predict(test_X)\n",
        "y_pred = np.argmax(y_pred_probs, axis=1)\n",
        "\n",
        "print(classification_report(test_y, y_pred))"
      ],
      "metadata": {
        "colab": {
          "base_uri": "https://localhost:8080/"
        },
        "id": "7s1ev8YJo6ys",
        "outputId": "fea108e6-b405-4eaa-a615-bdd139fe18f9"
      },
      "execution_count": 27,
      "outputs": [
        {
          "output_type": "stream",
          "name": "stdout",
          "text": [
            "28/28 [==============================] - 1s 7ms/step\n",
            "              precision    recall  f1-score   support\n",
            "\n",
            "           0       0.81      0.73      0.77       428\n",
            "           1       0.76      0.84      0.80       444\n",
            "\n",
            "    accuracy                           0.78       872\n",
            "   macro avg       0.79      0.78      0.78       872\n",
            "weighted avg       0.79      0.78      0.78       872\n",
            "\n"
          ]
        }
      ]
    },
    {
      "cell_type": "code",
      "source": [],
      "metadata": {
        "id": "kPN4-EbpL1Vw"
      },
      "execution_count": 21,
      "outputs": []
    }
  ]
}