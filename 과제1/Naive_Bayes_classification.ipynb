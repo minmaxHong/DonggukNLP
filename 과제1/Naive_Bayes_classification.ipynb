{
  "nbformat": 4,
  "nbformat_minor": 0,
  "metadata": {
    "colab": {
      "provenance": []
    },
    "kernelspec": {
      "name": "python3",
      "display_name": "Python 3"
    },
    "language_info": {
      "name": "python"
    }
  },
  "cells": [
    {
      "cell_type": "code",
      "source": [
        "from sklearn import preprocessing\n",
        "from sklearn.naive_bayes import GaussianNB"
      ],
      "metadata": {
        "id": "MuE5-SlQ1n2E"
      },
      "execution_count": 9,
      "outputs": []
    },
    {
      "cell_type": "markdown",
      "source": [
        "\n",
        "## Feature\n",
        "\n",
        "- 날씨(Weather)\n",
        "\n",
        "- 온도(temp)\n",
        "\n",
        "\n",
        "## Label\n",
        "- 경기여부(play)"
      ],
      "metadata": {
        "id": "pTYq3VP31eH-"
      }
    },
    {
      "cell_type": "code",
      "execution_count": 10,
      "metadata": {
        "id": "TFYll1tS1Q6s"
      },
      "outputs": [],
      "source": [
        "weather=['Sunny','Sunny','Overcast','Rainy','Rainy','Rainy','Overcast','Sunny','Sunny',\n",
        "'Rainy','Sunny','Overcast','Overcast','Rainy']\n",
        "\n",
        "temp=['Hot','Hot','Hot','Mild','Cool','Cool','Cool','Mild','Cool','Mild','Mild','Mild','Hot','Mild']\n",
        "\n",
        "play=['No','No','Yes','Yes','Yes','No','Yes','No','Yes','Yes','Yes','Yes','Yes','No']"
      ]
    },
    {
      "cell_type": "code",
      "source": [
        "# LabelEncoder\n",
        "le = preprocessing.LabelEncoder()\n",
        "\n",
        "weather_encoded = le.fit_transform(weather)\n",
        "temp_encoded = le.fit_transform(temp)\n",
        "label = le.fit_transform(play)\n",
        "\n",
        "print(f'weather : {weather_encoded}') # Overcast : 0, Rainy : 1, Sunny : 2\n",
        "print(f'temp : {temp_encoded}') # Cool : 0, Hot : 1, Mild : 2\n",
        "print(f'play : {label}') # No : 0, Yes : 1"
      ],
      "metadata": {
        "colab": {
          "base_uri": "https://localhost:8080/"
        },
        "id": "qwfaimrI1mbU",
        "outputId": "25c0cb8c-92e6-4a62-fa58-63e10e27f542"
      },
      "execution_count": 11,
      "outputs": [
        {
          "output_type": "stream",
          "name": "stdout",
          "text": [
            "weather : [2 2 0 1 1 1 0 2 2 1 2 0 0 1]\n",
            "temp : [1 1 1 2 0 0 0 2 0 2 2 2 1 2]\n",
            "play : [0 0 1 1 1 0 1 0 1 1 1 1 1 0]\n"
          ]
        }
      ]
    },
    {
      "cell_type": "code",
      "source": [
        "# Combine Feature\n",
        "features = zip(weather_encoded, temp_encoded)\n",
        "features = list(features)\n",
        "\n",
        "print(f'features : {features}')"
      ],
      "metadata": {
        "colab": {
          "base_uri": "https://localhost:8080/"
        },
        "id": "7qF2hplS2R56",
        "outputId": "b828a3da-4ea3-4793-d6d6-e5561a83c660"
      },
      "execution_count": 12,
      "outputs": [
        {
          "output_type": "stream",
          "name": "stdout",
          "text": [
            "features : [(2, 1), (2, 1), (0, 1), (1, 2), (1, 0), (1, 0), (0, 0), (2, 2), (2, 0), (1, 2), (2, 2), (0, 2), (0, 1), (1, 2)]\n"
          ]
        }
      ]
    },
    {
      "cell_type": "code",
      "source": [
        "# Create Model // Train // Inference\n",
        "model = GaussianNB()\n",
        "model.fit(features, label)\n",
        "\n",
        "predicted = model.predict([[0, 2]]) # Overcast, Mild\n",
        "print(f'predicted : {predicted}') # label : Yes(1)"
      ],
      "metadata": {
        "colab": {
          "base_uri": "https://localhost:8080/"
        },
        "id": "acLKYQwe2vpL",
        "outputId": "fe295748-596c-449a-cd4e-d4b38b961955"
      },
      "execution_count": 14,
      "outputs": [
        {
          "output_type": "stream",
          "name": "stdout",
          "text": [
            "predicted : [1]\n"
          ]
        }
      ]
    },
    {
      "cell_type": "markdown",
      "source": [
        "## Label이 여러개인 Naive Bayes"
      ],
      "metadata": {
        "id": "SpMZZqLS3Z-u"
      }
    },
    {
      "cell_type": "code",
      "source": [
        "from sklearn import datasets\n",
        "from sklearn.model_selection import train_test_split\n",
        "from sklearn import metrics"
      ],
      "metadata": {
        "id": "L5sXizIJ3QUa"
      },
      "execution_count": 23,
      "outputs": []
    },
    {
      "cell_type": "code",
      "source": [
        "# Load Dataset // Verify Dataset\n",
        "\n",
        "wine = datasets.load_wine()\n",
        "\n",
        "print(f'Features : {wine.feature_names}') # 13 features\n",
        "print(f'Target : {wine.target_names}') # 3 classes\n",
        "print(f'Shape : {wine.data.shape}') # shape : (178, 13)"
      ],
      "metadata": {
        "colab": {
          "base_uri": "https://localhost:8080/"
        },
        "id": "EiRsmaPt3hb5",
        "outputId": "a3b66749-2b7e-42b0-d473-b2e084deb88e"
      },
      "execution_count": 18,
      "outputs": [
        {
          "output_type": "stream",
          "name": "stdout",
          "text": [
            "Features : ['alcohol', 'malic_acid', 'ash', 'alcalinity_of_ash', 'magnesium', 'total_phenols', 'flavanoids', 'nonflavanoid_phenols', 'proanthocyanins', 'color_intensity', 'hue', 'od280/od315_of_diluted_wines', 'proline']\n",
            "Target : ['class_0' 'class_1' 'class_2']\n",
            "Shape : (178, 13)\n"
          ]
        }
      ]
    },
    {
      "cell_type": "code",
      "source": [
        "# Split Dataset\n",
        "X_train, X_test, y_train, y_test = train_test_split(wine.data, wine.target, test_size=0.3, random_state=0)\n",
        "\n",
        "# Create Model // Training // Inference\n",
        "model_2 = GaussianNB()\n",
        "model_2.fit(X_train, y_train)\n",
        "\n",
        "predicted = model_2.predict(X_test)\n",
        "print(f'predicted : {predicted}')\n",
        "print(f'Accuracy : {metrics.accuracy_score(y_test, predicted)}')"
      ],
      "metadata": {
        "colab": {
          "base_uri": "https://localhost:8080/"
        },
        "id": "H2C5VklM3oeq",
        "outputId": "bc0f9369-e3bd-4e01-ad58-1dd2cefce09b"
      },
      "execution_count": 26,
      "outputs": [
        {
          "output_type": "stream",
          "name": "stdout",
          "text": [
            "predicted : [0 2 1 0 1 1 0 2 1 1 2 2 0 0 2 1 0 0 2 0 0 0 0 1 1 1 1 1 1 2 0 0 1 0 0 0 2\n",
            " 1 1 2 0 0 1 1 1 0 2 1 2 0 2 2 0 2]\n",
            "Accuracy : 0.9444444444444444\n"
          ]
        }
      ]
    }
  ]
}